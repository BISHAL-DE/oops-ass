{
 "cells": [
  {
   "cell_type": "markdown",
   "id": "1fc14968-0c23-414a-9004-8f97329e7d45",
   "metadata": {},
   "source": [
    "Q1:"
   ]
  },
  {
   "cell_type": "code",
   "execution_count": 3,
   "id": "319a4e42-1e1e-4fed-869f-85f1c919bacf",
   "metadata": {},
   "outputs": [],
   "source": [
    "class vehicle:\n",
    "    def __init__(self,name_of_vehicle,max_speed,average_of_vehicle):\n",
    "        self.name_of_vehicle=name_of_vehicle\n",
    "        self.max_speed=max_speed\n",
    "        self.average_of_vehicle=average_of_vehicle\n",
    "    def car_details(self):\n",
    "        return self.name_of_vehicle,self.max_speed,self.average_of_vehicle"
   ]
  },
  {
   "cell_type": "code",
   "execution_count": 15,
   "id": "e0a0333c-4ff9-443c-86e5-6858525f009e",
   "metadata": {},
   "outputs": [],
   "source": [
    "bishal=vehicle(\"toyota\",120,40)"
   ]
  },
  {
   "cell_type": "code",
   "execution_count": 17,
   "id": "0e224f3e-1dd1-4714-a50d-b1ed621ca130",
   "metadata": {},
   "outputs": [
    {
     "data": {
      "text/plain": [
       "'toyota'"
      ]
     },
     "execution_count": 17,
     "metadata": {},
     "output_type": "execute_result"
    }
   ],
   "source": [
    "bishal.name_of_vehicle"
   ]
  },
  {
   "cell_type": "code",
   "execution_count": 19,
   "id": "8e6b2961-d1c8-4971-b6fb-2a0eda550cf6",
   "metadata": {},
   "outputs": [
    {
     "data": {
      "text/plain": [
       "120"
      ]
     },
     "execution_count": 19,
     "metadata": {},
     "output_type": "execute_result"
    }
   ],
   "source": [
    "bishal.max_speed"
   ]
  },
  {
   "cell_type": "code",
   "execution_count": 21,
   "id": "5356dff9-15f8-42b7-bc03-1fbfda3f0429",
   "metadata": {},
   "outputs": [
    {
     "data": {
      "text/plain": [
       "40"
      ]
     },
     "execution_count": 21,
     "metadata": {},
     "output_type": "execute_result"
    }
   ],
   "source": [
    "bishal.average_of_vehicle"
   ]
  },
  {
   "cell_type": "markdown",
   "id": "c579e052-c8f9-4c7b-843d-d3b590f45efb",
   "metadata": {},
   "source": [
    "Q2:"
   ]
  },
  {
   "cell_type": "code",
   "execution_count": 5,
   "id": "77472e4b-4447-49f9-9c46-03f198868081",
   "metadata": {},
   "outputs": [],
   "source": [
    "class child_car(vehicle):\n",
    "    pass"
   ]
  },
  {
   "cell_type": "markdown",
   "id": "1232f023-b81b-4ba2-aa4a-a444667a2947",
   "metadata": {},
   "source": [
    "Q3: Multiple Inheritance- This is a process where the child class inherit the methods and attributes from one or many parent classes.\n",
    "Example shown below"
   ]
  },
  {
   "cell_type": "code",
   "execution_count": null,
   "id": "1f30aa99-6d8c-4fb7-ac77-bc8cac0d0383",
   "metadata": {},
   "outputs": [],
   "source": [
    "class father:\n",
    "    def father_property(self):\n",
    "        return \"this is fathers property\""
   ]
  },
  {
   "cell_type": "code",
   "execution_count": null,
   "id": "425b82cd-4eaf-4add-97ef-b192a177c983",
   "metadata": {},
   "outputs": [],
   "source": [
    "class mother:\n",
    "    def mothers_property(self):\n",
    "        return \"this is mothers property\""
   ]
  },
  {
   "cell_type": "code",
   "execution_count": null,
   "id": "bbb7cdd6-dd75-42e9-a39d-36d3bfffe233",
   "metadata": {},
   "outputs": [],
   "source": [
    "class child(father,mother):\n",
    "    pass"
   ]
  },
  {
   "cell_type": "markdown",
   "id": "26dca480-2b22-45c9-87af-01f54f7b463e",
   "metadata": {},
   "source": [
    "Q4:Getter- A method that allow you to access an atribute in a given class.\n",
    "   Setter-A method that allows you to set or mutate the value of an atribute in a class.\n",
    "   example shown below"
   ]
  },
  {
   "cell_type": "code",
   "execution_count": 1,
   "id": "75d44d52-0623-4a3b-ad95-7d38ef2d15bd",
   "metadata": {},
   "outputs": [],
   "source": [
    "class encapsulation:\n",
    "    def __init__(self,age=0):\n",
    "        self._age=age\n",
    "    def get_age(self):\n",
    "        return self._age \n",
    "    def set_age(self,x):\n",
    "        self._age=x"
   ]
  },
  {
   "cell_type": "markdown",
   "id": "9e16e2e8-08a7-4778-a04b-ce9a7eb38e18",
   "metadata": {},
   "source": [
    "Q5:Method overiding is an ability of any object-oriented programming language that allow a child class to provide a specific implementation that is already provided by one of its parent classes"
   ]
  },
  {
   "cell_type": "code",
   "execution_count": 6,
   "id": "2a2f8b03-45cc-446c-b3c3-a41db21887c4",
   "metadata": {},
   "outputs": [],
   "source": [
    "class person:\n",
    "    def hello(self,name=None):\n",
    "        if name != None:\n",
    "            print (\"Hello\" + name)\n",
    "        else:\n",
    "            print(\"Hello\")"
   ]
  },
  {
   "cell_type": "code",
   "execution_count": 7,
   "id": "1bc3d0c2-805b-4f4a-973d-8e4d1b6e87a0",
   "metadata": {},
   "outputs": [],
   "source": [
    "obj=person()"
   ]
  },
  {
   "cell_type": "code",
   "execution_count": 8,
   "id": "137c5d83-8358-4b47-8317-3d178ed1d876",
   "metadata": {},
   "outputs": [
    {
     "name": "stdout",
     "output_type": "stream",
     "text": [
      "Hellobishal\n"
     ]
    }
   ],
   "source": [
    "obj.hello(\"bishal\")"
   ]
  },
  {
   "cell_type": "code",
   "execution_count": 9,
   "id": "b04c5f17-c946-4c80-ade1-7bf8367b93ca",
   "metadata": {},
   "outputs": [
    {
     "name": "stdout",
     "output_type": "stream",
     "text": [
      "Hello\n"
     ]
    }
   ],
   "source": [
    "obj.hello()"
   ]
  }
 ],
 "metadata": {
  "kernelspec": {
   "display_name": "Python 3 (ipykernel)",
   "language": "python",
   "name": "python3"
  },
  "language_info": {
   "codemirror_mode": {
    "name": "ipython",
    "version": 3
   },
   "file_extension": ".py",
   "mimetype": "text/x-python",
   "name": "python",
   "nbconvert_exporter": "python",
   "pygments_lexer": "ipython3",
   "version": "3.10.8"
  }
 },
 "nbformat": 4,
 "nbformat_minor": 5
}
